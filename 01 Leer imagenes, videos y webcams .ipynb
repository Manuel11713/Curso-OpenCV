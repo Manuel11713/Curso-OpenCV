{
 "cells": [
  {
   "cell_type": "markdown",
   "metadata": {},
   "source": [
    "###### Tipo de Resoluciones\n",
    "VGA = 640 x 480.\n",
    "\n",
    "HD = 1280 x 720.\n",
    "\n",
    "FHD = 1920 x 1080.\n",
    "\n",
    "4K = 3840 x 2160.\n",
    "\n",
    "8 bits = 256 Niveles \n",
    "\n",
    "2^8 = 256"
   ]
  },
  {
   "cell_type": "code",
   "execution_count": 2,
   "metadata": {},
   "outputs": [],
   "source": [
    "import cv2"
   ]
  },
  {
   "cell_type": "code",
   "execution_count": 4,
   "metadata": {},
   "outputs": [],
   "source": [
    "#Leer imagenes \n",
    "img = cv2.imread('imagenes/camino.jpg')"
   ]
  },
  {
   "cell_type": "code",
   "execution_count": 6,
   "metadata": {},
   "outputs": [
    {
     "data": {
      "text/plain": [
       "-1"
      ]
     },
     "execution_count": 6,
     "metadata": {},
     "output_type": "execute_result"
    }
   ],
   "source": [
    "#Mostrar imagenes\n",
    "cv2.imshow('Imagen del camino',img)\n",
    "cv2.waitKey(0)"
   ]
  },
  {
   "cell_type": "code",
   "execution_count": 7,
   "metadata": {},
   "outputs": [],
   "source": [
    "#Leer video\n",
    "vid = cv2.VideoCapture(\"videos/redes neuronales.mp4\")"
   ]
  },
  {
   "cell_type": "code",
   "execution_count": 1,
   "metadata": {},
   "outputs": [],
   "source": [
    "#Mostrar video\n",
    "while True:\n",
    "    success, img = vid.read()\n",
    "    cv2.imshow(\"Video\",img)\n",
    "    if cv2.waitKey(1) and 0xFF == ord('q'):\n",
    "        break"
   ]
  },
  {
   "cell_type": "code",
   "execution_count": null,
   "metadata": {},
   "outputs": [],
   "source": [
    "#Capturar webcam\n",
    "cap = cv2.VideoCapture(0)#camara 0\n",
    "cap.set(3,640)#configuramos la anchura de la captura\n",
    "cap.set(4,480)#configuramos la altura de la captura\n",
    "#cap.set(10,1000)#configuramos el brillo\n",
    "while cap.isOpened():\n",
    "    success,img = cap.read()\n",
    "    cv2.imshow(\"Frame\",img)\n",
    "    if cv2.waitKey(1) and 0xFF == ord('q'):\n",
    "        break"
   ]
  },
  {
   "cell_type": "markdown",
   "metadata": {},
   "source": [
    "#### valores de ID para la funcion set()\n",
    "0. CV_CAP_PROP_POS_MSEC Current position of the video file in milliseconds.\n",
    "1. CV_CAP_PROP_POS_FRAMES 0-based index of the frame to be decoded/captured next.\n",
    "2. CV_CAP_PROP_POS_AVI_RATIO Relative position of the video file\n",
    "3. CV_CAP_PROP_FRAME_WIDTH Width of the frames in the video stream.\n",
    "4. CV_CAP_PROP_FRAME_HEIGHT Height of the frames in the video stream.\n",
    "5. CV_CAP_PROP_FPS Frame rate.\n",
    "6. CV_CAP_PROP_FOURCC 4-character code of codec.\n",
    "7. CV_CAP_PROP_FRAME_COUNT Number of frames in the video file.\n",
    "8. CV_CAP_PROP_FORMAT Format of the Mat objects returned by retrieve() .\n",
    "9. CV_CAP_PROP_MODE Backend-specific value indicating the current capture mode.\n",
    "10. CV_CAP_PROP_BRIGHTNESS Brightness of the image (only for cameras).\n",
    "11. CV_CAP_PROP_CONTRAST Contrast of the image (only for cameras).\n",
    "12. CV_CAP_PROP_SATURATION Saturation of the image (only for cameras).\n",
    "13. CV_CAP_PROP_HUE Hue of the image (only for cameras).\n",
    "14. CV_CAP_PROP_GAIN Gain of the image (only for cameras).\n",
    "15. CV_CAP_PROP_EXPOSURE Exposure (only for cameras).\n",
    "16. CV_CAP_PROP_CONVERT_RGB Boolean flags indicating whether images should be converted to RGB.\n",
    "17. CV_CAP_PROP_WHITE_BALANCE Currently unsupported\n",
    "18. CV_CAP_PROP_RECTIFICATION Rectification flag for stereo cameras (note: only supported by DC1394 v 2.x backend currently)"
   ]
  },
  {
   "cell_type": "code",
   "execution_count": null,
   "metadata": {},
   "outputs": [],
   "source": []
  }
 ],
 "metadata": {
  "kernelspec": {
   "display_name": "Python 3",
   "language": "python",
   "name": "python3"
  },
  "language_info": {
   "codemirror_mode": {
    "name": "ipython",
    "version": 3
   },
   "file_extension": ".py",
   "mimetype": "text/x-python",
   "name": "python",
   "nbconvert_exporter": "python",
   "pygments_lexer": "ipython3",
   "version": "3.7.4"
  }
 },
 "nbformat": 4,
 "nbformat_minor": 2
}
