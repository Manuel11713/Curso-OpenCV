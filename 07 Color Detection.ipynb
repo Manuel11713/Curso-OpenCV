{
 "cells": [
  {
   "cell_type": "code",
   "execution_count": 1,
   "metadata": {},
   "outputs": [],
   "source": [
    "import cv2\n",
    "import numpy as np"
   ]
  },
  {
   "cell_type": "code",
   "execution_count": 2,
   "metadata": {},
   "outputs": [],
   "source": [
    "img = cv2.imread('./imagenes/uno.jpg')"
   ]
  },
  {
   "cell_type": "code",
   "execution_count": 3,
   "metadata": {},
   "outputs": [
    {
     "data": {
      "text/plain": [
       "-1"
      ]
     },
     "execution_count": 3,
     "metadata": {},
     "output_type": "execute_result"
    }
   ],
   "source": [
    "img = cv2.resize(img,(300,400))\n",
    "cv2.imshow('',img)\n",
    "cv2.waitKey(0)"
   ]
  },
  {
   "cell_type": "code",
   "execution_count": 4,
   "metadata": {},
   "outputs": [
    {
     "data": {
      "text/plain": [
       "-1"
      ]
     },
     "execution_count": 4,
     "metadata": {},
     "output_type": "execute_result"
    }
   ],
   "source": [
    "imgHSV = cv2.cvtColor(img,cv2.COLOR_BGR2HSV)#hue saturation value\n",
    "cv2.imshow('HSV',imgHSV)\n",
    "cv2.waitKey(0)"
   ]
  },
  {
   "cell_type": "code",
   "execution_count": 5,
   "metadata": {},
   "outputs": [],
   "source": [
    "def empty(a):\n",
    "    pass"
   ]
  },
  {
   "cell_type": "code",
   "execution_count": null,
   "metadata": {
    "scrolled": true
   },
   "outputs": [],
   "source": [
    "cv2.namedWindow(\"TrackBars\")\n",
    "cv2.resizeWindow('TrackBars',650,300)\n",
    "cv2.createTrackbar(\"Hue Min\",\"TrackBars\",0,179,empty)#58\n",
    "cv2.createTrackbar(\"Hue Max\",\"TrackBars\",0,179,empty)#175\n",
    "cv2.createTrackbar(\"Saturation Min\",\"TrackBars\",0,255,empty)#11\n",
    "cv2.createTrackbar(\"Saturation Max\",\"TrackBars\",0,255,empty)#255\n",
    "cv2.createTrackbar(\"Val Min\",\"TrackBars\",0,255,empty)#0\n",
    "cv2.createTrackbar(\"Val Max\",\"TrackBars\",0,255,empty)#255\n",
    "while True:\n",
    "    h_min = cv2.getTrackbarPos(\"Hue Min\",\"TrackBars\")\n",
    "    h_max = cv2.getTrackbarPos(\"Hue Max\",\"TrackBars\")\n",
    "    s_min = cv2.getTrackbarPos(\"Saturation Min\",\"TrackBars\")\n",
    "    s_max = cv2.getTrackbarPos(\"Saturation Max\",\"TrackBars\")\n",
    "    v_min = cv2.getTrackbarPos(\"Val Min\",\"TrackBars\")\n",
    "    v_max = cv2.getTrackbarPos(\"Val Max\",\"TrackBars\")\n",
    "    lower = np.array([h_min,s_min,v_min])\n",
    "    upper = np.array([h_max,s_max,v_max])\n",
    "    mask = cv2.inRange(imgHSV,lower,upper)\n",
    "    imgResult = cv2.bitwise_and(img,img,mask=mask)\n",
    "    \n",
    "    cv2.imshow('orignal',img)\n",
    "    #cv2.imshow('mask',mask)\n",
    "    cv2.imshow('result',imgResult)\n",
    "    cv2.waitKey(1)\n"
   ]
  },
  {
   "cell_type": "code",
   "execution_count": 7,
   "metadata": {},
   "outputs": [
    {
     "data": {
      "text/plain": [
       "-1"
      ]
     },
     "execution_count": 7,
     "metadata": {},
     "output_type": "execute_result"
    }
   ],
   "source": [
    "cv2.namedWindow(\"TrackBars\")\n",
    "cv2.resizeWindow('TrackBars',650,300)\n",
    "cv2.createTrackbar(\"Hue Min\",\"TrackBars\",58,179,empty)#58\n",
    "cv2.createTrackbar(\"Hue Max\",\"TrackBars\",179,179,empty)#175\n",
    "cv2.createTrackbar(\"Saturation Min\",\"TrackBars\",11,255,empty)#11\n",
    "cv2.createTrackbar(\"Saturation Max\",\"TrackBars\",255,255,empty)#255\n",
    "cv2.createTrackbar(\"Val Min\",\"TrackBars\",0,255,empty)#0\n",
    "cv2.createTrackbar(\"Val Max\",\"TrackBars\",255,255,empty)#255\n",
    "h_min = cv2.getTrackbarPos(\"Hue Min\",\"TrackBars\")\n",
    "h_max = cv2.getTrackbarPos(\"Hue Max\",\"TrackBars\")\n",
    "s_min = cv2.getTrackbarPos(\"Saturation Min\",\"TrackBars\")\n",
    "s_max = cv2.getTrackbarPos(\"Saturation Max\",\"TrackBars\")\n",
    "v_min = cv2.getTrackbarPos(\"Val Min\",\"TrackBars\")\n",
    "v_max = cv2.getTrackbarPos(\"Val Max\",\"TrackBars\")\n",
    "lower = np.array([h_min,s_min,v_min])\n",
    "upper = np.array([h_max,s_max,v_max])\n",
    "mask = cv2.inRange(imgHSV,lower,upper)\n",
    "imgResult = cv2.bitwise_and(img,img,mask=mask)\n",
    "\n",
    "cv2.imshow('orignal',img)\n",
    "#cv2.imshow('mask',mask)\n",
    "cv2.imshow('result',imgResult)\n",
    "cv2.waitKey(0)"
   ]
  },
  {
   "cell_type": "code",
   "execution_count": null,
   "metadata": {},
   "outputs": [],
   "source": []
  }
 ],
 "metadata": {
  "kernelspec": {
   "display_name": "Python 3",
   "language": "python",
   "name": "python3"
  },
  "language_info": {
   "codemirror_mode": {
    "name": "ipython",
    "version": 3
   },
   "file_extension": ".py",
   "mimetype": "text/x-python",
   "name": "python",
   "nbconvert_exporter": "python",
   "pygments_lexer": "ipython3",
   "version": "3.7.4"
  }
 },
 "nbformat": 4,
 "nbformat_minor": 2
}
