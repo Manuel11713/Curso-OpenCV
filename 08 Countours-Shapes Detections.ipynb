{
 "cells": [
  {
   "cell_type": "code",
   "execution_count": 1,
   "metadata": {},
   "outputs": [],
   "source": [
    "import cv2"
   ]
  },
  {
   "cell_type": "code",
   "execution_count": 86,
   "metadata": {},
   "outputs": [
    {
     "data": {
      "text/plain": [
       "-1"
      ]
     },
     "execution_count": 86,
     "metadata": {},
     "output_type": "execute_result"
    }
   ],
   "source": [
    "img = cv2.imread('imagenes/contornos.jpg')\n",
    "imgContour = img.copy()\n",
    "cv2.imshow('',img)\n",
    "cv2.waitKey(0)"
   ]
  },
  {
   "cell_type": "code",
   "execution_count": 87,
   "metadata": {},
   "outputs": [],
   "source": [
    "def getContours(img):\n",
    "    contours, hierarchy = cv2.findContours(img,cv2.RETR_EXTERNAL,cv2.CHAIN_APPROX_NONE)\n",
    "    for c in contours:\n",
    "        area = cv2.contourArea(c)   \n",
    "        #if area>5:\n",
    "        cv2.drawContours(imgContour,c,-1,(255,0,0),3)\n",
    "        peri = cv2.arcLength(c,True)#calcula la longitud del contorno o curva\n",
    "        #print(peri)\n",
    "        approx = cv2.approxPolyDP(c,0.02*peri,True)#calcula los vertices\n",
    "        objCor = len(approx)#numero de vertices\n",
    "        x,y,w,h = cv2.boundingRect(approx) #bounding box\n",
    "        cv2.rectangle(imgContour,(x,y),(x+w,y+h),(0,255,0),3)#pintamos el bounding box\n",
    "        \n",
    "        if objCor == 3: objType = \"Triangle\"\n",
    "        elif objCor == 4: objType = \"Rectangle\"\n",
    "        elif objCor>4: objType = \"Circle\"\n",
    "        else: objType = \"None \"\n",
    "        cv2.putText(imgContour,objType,(x+w//2,y+h//2-10),cv2.FONT_HERSHEY_COMPLEX_SMALL,1,(0,255,255),1)\n",
    "        \n",
    "        "
   ]
  },
  {
   "cell_type": "code",
   "execution_count": 88,
   "metadata": {},
   "outputs": [],
   "source": [
    "imgGray = cv2.cvtColor(img,cv2.COLOR_BGR2GRAY)\n",
    "imgBlur = cv2.GaussianBlur(imgGray,(7,7),1)\n",
    "imgCanny = cv2.Canny(imgBlur,50,50)"
   ]
  },
  {
   "cell_type": "code",
   "execution_count": 89,
   "metadata": {},
   "outputs": [],
   "source": [
    "getContours(imgCanny)"
   ]
  },
  {
   "cell_type": "code",
   "execution_count": 91,
   "metadata": {},
   "outputs": [
    {
     "data": {
      "text/plain": [
       "-1"
      ]
     },
     "execution_count": 91,
     "metadata": {},
     "output_type": "execute_result"
    }
   ],
   "source": [
    "cv2.imshow('canny',imgCanny)\n",
    "cv2.imshow('contour',imgContour)\n",
    "cv2.waitKey(0)"
   ]
  },
  {
   "cell_type": "code",
   "execution_count": null,
   "metadata": {},
   "outputs": [],
   "source": []
  },
  {
   "cell_type": "code",
   "execution_count": null,
   "metadata": {},
   "outputs": [],
   "source": []
  },
  {
   "cell_type": "code",
   "execution_count": null,
   "metadata": {},
   "outputs": [],
   "source": []
  },
  {
   "cell_type": "code",
   "execution_count": null,
   "metadata": {},
   "outputs": [],
   "source": []
  }
 ],
 "metadata": {
  "kernelspec": {
   "display_name": "Python 3",
   "language": "python",
   "name": "python3"
  },
  "language_info": {
   "codemirror_mode": {
    "name": "ipython",
    "version": 3
   },
   "file_extension": ".py",
   "mimetype": "text/x-python",
   "name": "python",
   "nbconvert_exporter": "python",
   "pygments_lexer": "ipython3",
   "version": "3.7.4"
  }
 },
 "nbformat": 4,
 "nbformat_minor": 2
}
